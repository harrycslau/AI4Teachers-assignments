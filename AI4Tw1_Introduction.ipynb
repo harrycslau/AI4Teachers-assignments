{
  "cells": [
    {
      "cell_type": "markdown",
      "metadata": {
        "id": "kxjaU7GADwr0"
      },
      "source": [
        "<a href=\"https://colab.research.google.com/github/harrycslau/AI4Teachers-assignments/blob/master/AI4Tw1_Introduction.ipynb\" target=\"_parent\"><img src=\"https://colab.research.google.com/assets/colab-badge.svg\" alt=\"Open In Colab\"></a>"
      ]
    },
    {
      "cell_type": "markdown",
      "metadata": {
        "id": "KHXUsLSJ0vZ9"
      },
      "source": [
        "# Introduction to Python Programming and Using Jupyter Notebook\n",
        "\n",
        "#### Part of the course on \"AI4Teachers\", Department of Mathematics and Statistics, University of Turku, Finland\n",
        "#### Lectures available on YouTube: https://youtube.com/playlist?list=PLbkSohdmxoVAZ9DEHEWHjeGK7Ei-DjKHI&si=Msu74_I0qhLrRWcu\n",
        "#### Code available on GitHub: https://github.com/harrycslau/AI4Teachers-assignments\n",
        "\n"
      ]
    },
    {
      "cell_type": "markdown",
      "metadata": {
        "id": "ywKY9yrF4t-3"
      },
      "source": [
        "## About Jupyter Notebook\n",
        "\n",
        "Jupyter Notebook is an interactive coding environment for writing and running Python code. It supports live, cell-by-cell code execution, saving results, and adding documentation, making it ideal for learning, analysis, and collaboration.\n",
        "\n",
        "You can run Jupyter Notebook with Google Colab online, or on your own computer.\n",
        "\n",
        "\n",
        "## About Python\n",
        "\n",
        "Python is a powerful yet beginner-friendly programming language known for simplicity, readability, and broad applications in data analysis, web development, and AI.\n",
        "\n",
        "In this notebook, we will learn six programming concepts commonly found in Python code, including:\n",
        "1. Import\n",
        "2. Variables\n",
        "3. Print\n",
        "4. Conditional Statements\n",
        "5. List\n",
        "6. Loop\n",
        "\n",
        "The purpose of this notebook is NOT to teach you how to write code from scratch. Instead, it aims to provide you with the basics to read or amend code written by others with greater confidence. You just need to understand and run all the code cells, and complete the challenge section at the end. Happy learning!\n"
      ]
    },
    {
      "cell_type": "markdown",
      "metadata": {
        "id": "pLfVuPNTOXRq"
      },
      "source": [
        "## 1. Importing Modules: The Toolbox\n",
        "\n",
        "In programming, there are many different \"toolboxes\" contain ready-made tools for specific tasks. In Python, we \"import\" these tools from libraries.\n",
        "\n",
        "For example, ```random``` is a library to generate random numbers, while ```matplotlib.pyplot``` is used to create visual plots.\n",
        "\n",
        "You can run the code cell by pressing the play button\n",
        "![image.png](data:image/png;base64,iVBORw0KGgoAAAANSUhEUgAAACAAAAAgCAYAAABzenr0AAAAAXNSR0IArs4c6QAAAERlWElmTU0AKgAAAAgAAYdpAAQAAAABAAAAGgAAAAAAA6ABAAMAAAABAAEAAKACAAQAAAABAAAAIKADAAQAAAABAAAAIAAAAACshmLzAAACWElEQVRYCcWXv0scQRTH9xRMZYJXmFpBsE4VBfEH+SdMcueVVikEIX+AXRKIhVj6BwSEQMo0pohFICRRwc5CMWCnViom+XyPm2Vvb3bmebvEBx9nd+e973szOzN7Jsk9W+2O+cfxn4Jn8ARGQXYG3+EzfIUjqMzqKLXgC/w18AefHWiBYkvZAtEHIFFL8qyPYvZBGne2QSKacAJZ0X6uj9FogDRNJsd3cAv9JPTFSOstmIrQyKtM7gqSZgOCpvdVxbS7pPlWr2O+qAKtWC24fJDvvswMaWF6d0eLjthqv8ZnA2ZB+z7m7yteMUvQY5Z9fkjU407kI9rXcAm+RKFnOie6bJy7UIDr+4XfcFdkkkxyvw034PxirWZhDJIB/cF0vPZrmpVF0DbTbFishtN01nGLm1jV6vfNgNPRYCT6CSxaypnaT64sQaECnJhGtwJXEc0fLkDt74izK85SgNNdjmieytGtARf031tXgL7nVdorxN5HBNs5XQE6VMqa3v1T+Ajr8ABC1pXzBZ7uPYfaojUwRPwanBt1lOM5pKZDwXKs+gqYIPYD6JgOFZ/tSw8iYlLb4Srr5LvOHsUP8V+FC0NcXku5eqzFk9gsaJSbMAPfDP75xLpXjib0WJ0n+lT6gvLPynyO98gx0pO982CBVj8a8gmrupf2HARNP5vKjLCoWGm+DGbudOqHo75sVRYhrTcgbZPJsQGasqIRWZ9LQyM3J8c3tXmutDBju8NXjGK04KRRyrQ7lkB711KIfOSrmMLVTl/bau7C2I7hF/vndBefI6Pe/bv9A0u+Ddya3b7FAAAAAElFTkSuQmCC)\n",
        "on the left of the cell, or press the key ```Ctrl + Enter``` (Windows) or ```Cmd + Return``` (Mac) within the cell. You will see the order of run as ```[1]```  after the code has completed running.\n",
        "\n",
        "If you are using Colab, the first cell run may take longer (about 10-20 seconds) to connect to the computing resources session (also called the \"runtime\")."
      ]
    },
    {
      "cell_type": "code",
      "execution_count": null,
      "metadata": {
        "id": "kKktXTG3hp1Q"
      },
      "outputs": [],
      "source": [
        "import random\n",
        "import matplotlib.pyplot as plt"
      ]
    },
    {
      "cell_type": "markdown",
      "metadata": {
        "id": "c81MMFKaPN2Y"
      },
      "source": [
        "## 2. Variables: The Storage Boxes\n",
        "\n",
        "Think of variables as \"storage boxes\" where you can keep information.\n",
        "\n",
        "In the code below, the first line, started with ```#```, is a comment for explanation and will not be executed.\n",
        "\n",
        "In the second line, ```x``` is the name of the variable. We generates a random number between 0.0 and 1.0 and stores it in x."
      ]
    },
    {
      "cell_type": "code",
      "execution_count": null,
      "metadata": {
        "id": "VxB6HoFsh11h"
      },
      "outputs": [],
      "source": [
        "# Generate a random float (non-integer) number for x between 0.0 and 1.0\n",
        "x = random.random()\n",
        "\n",
        "# Generate a random float for y between 0.0 and 1.0\n",
        "y = random.random()\n",
        "\n",
        "# Calculate the distance from the origin (0,0)\n",
        "r = (x**2 + y**2)**0.5"
      ]
    },
    {
      "cell_type": "markdown",
      "metadata": {
        "id": "my6p80AwQVCo"
      },
      "source": [
        "## 3. Print: Showing Results\n",
        "\n",
        "To understand what is happening in our program, we can use ```print()``` to display something.\n",
        "\n",
        "To print a text (or a string), you need to keep them either inside single quotes ```'xxx'``` or double quotes ```\"xxx\"```.\n",
        "\n",
        "To print more than one item, use a comma ```,``` to separate them."
      ]
    },
    {
      "cell_type": "code",
      "execution_count": null,
      "metadata": {
        "id": "l_iE-KOJQZgk"
      },
      "outputs": [],
      "source": [
        "print(x, y)\n",
        "print(\"The values of r is: \", r)"
      ]
    },
    {
      "cell_type": "markdown",
      "metadata": {
        "id": "-mx8P_GERJ-6"
      },
      "source": [
        "## 4. Conditional Statements: Making Decisions\n",
        "\n",
        "Conditional statements decide what to do based on certain conditions.\n",
        "\n",
        "Notice the spacing before the ```print()``` statements. This is called **indentation**. In Python, code blocks inside if or else must be indented (usually 4 spaces)."
      ]
    },
    {
      "cell_type": "code",
      "execution_count": null,
      "metadata": {
        "id": "ima6r7nuij9Z"
      },
      "outputs": [],
      "source": [
        "if r < 1:\n",
        "    print(\"r is smaller than 1\")\n",
        "else:\n",
        "    print(\"r is equal to or larger than 1\")\n"
      ]
    },
    {
      "cell_type": "markdown",
      "metadata": {
        "id": "q6Jq6tB747Ou"
      },
      "source": [
        "## 5. List: A Shelf of Storage Boxes\n",
        "\n",
        "Imagine a list as a shelf with many boxes. Each box can hold one item, and you can quickly access them by their position (index)."
      ]
    },
    {
      "cell_type": "code",
      "execution_count": null,
      "metadata": {
        "id": "xpapvEtf46Ga"
      },
      "outputs": [],
      "source": [
        "# Create a list\n",
        "boxes = []\n",
        "\n",
        "# Put something into the list\n",
        "boxes.append(123)   # Put a number in the list\n",
        "boxes.append(\"abc\") # Put a string in the list\n",
        "\n",
        "# Print the list\n",
        "print(boxes)\n",
        "\n",
        "# Print one item in the list using an index\n",
        "# The first item is 0\n",
        "print(boxes[0])"
      ]
    },
    {
      "cell_type": "markdown",
      "metadata": {
        "id": "hhcXiMKmBm1h"
      },
      "source": [
        "## 6. Loop: Repeating for Each Item</h2>\n",
        "\n",
        "A ```for``` loop repeats an action for each item in a group, like checking each student's homework in a class."
      ]
    },
    {
      "cell_type": "code",
      "execution_count": null,
      "metadata": {
        "id": "V0M-ikZqCskp"
      },
      "outputs": [],
      "source": [
        "# Print all items in a list\n",
        "for box in boxes:\n",
        "    print(box)\n",
        "\n",
        "# Adding up a series of numbers\n",
        "sum = 0\n",
        "for i in range(4):  # range(4) = [0,1,2,3]\n",
        "    sum = sum + i\n",
        "print(sum)"
      ]
    },
    {
      "cell_type": "markdown",
      "metadata": {
        "id": "z86DonnKEaS7"
      },
      "source": [
        "## Putting them all together!\n",
        "\n",
        "We will create 10000 random points inside a 1×1 box. For each point:\n",
        "\n",
        "- If the distance from the point to the origin (0,0) is smaller than 1, we color it blue.\n",
        "- Otherwise, we color it red."
      ]
    },
    {
      "cell_type": "code",
      "execution_count": null,
      "metadata": {
        "id": "NXgrv403jwtp"
      },
      "outputs": [],
      "source": [
        "# Create the lists for x, y, and color\n",
        "x_list = []\n",
        "y_list = []\n",
        "color_list = []\n",
        "\n",
        "# Create many random points\n",
        "for i in range(10000):\n",
        "\n",
        "    # create a point of (x,y) and calculate r\n",
        "    x = random.random()\n",
        "    y = random.random()\n",
        "    r = (x**2 + y**2)**0.5\n",
        "\n",
        "    # save x, y, and the color it should be\n",
        "    x_list.append(x)\n",
        "    y_list.append(y)\n",
        "    if r < 1:\n",
        "        color_list.append(\"blue\")\n",
        "    else:\n",
        "        color_list.append(\"red\")"
      ]
    },
    {
      "cell_type": "markdown",
      "metadata": {
        "id": "7TMRWnRLIIXh"
      },
      "source": [
        "We create a scatter plot of the points using the plt library.\n",
        "\n",
        "Optionally, you can increase the number of points (say 100000) to see what would happen!"
      ]
    },
    {
      "cell_type": "code",
      "execution_count": null,
      "metadata": {
        "id": "_Tg2P-yYkStY"
      },
      "outputs": [],
      "source": [
        "# Plot the points\n",
        "plt.figure(figsize=(6, 6))\n",
        "plt.scatter(x_list, y_list, c=color_list, s=1)   # Use colors list for point colors\n",
        "plt.gca().set_aspect(\"equal\", adjustable=\"box\")  # Ensure equal aspect ratio\n",
        "plt.title(\"A scatter plot of random points\")\n",
        "plt.xlabel(\"x\")\n",
        "plt.ylabel(\"y\")\n",
        "plt.show()"
      ]
    },
    {
      "cell_type": "markdown",
      "metadata": {
        "id": "1KN_kGf57ug5"
      },
      "source": [
        "## Challenge!\n",
        "\n",
        "Estimate the value of π using the number of blue points and the total number of points. Calculate and print the result."
      ]
    },
    {
      "cell_type": "code",
      "execution_count": null,
      "metadata": {
        "id": "fQl1MXW-l-tF"
      },
      "outputs": [],
      "source": [
        "inside_points = color_list.count(\"blue\")  # number of blue points\n",
        "total_points = len(color_list)            # total number of points\n",
        "\n",
        "# Complete your code here to estimate pi"
      ]
    },
    {
      "cell_type": "markdown",
      "metadata": {
        "id": "2dElrpJ-9Gou"
      },
      "source": [
        "#### Congratulations! You have completed this notebook!\n",
        "\n",
        "You can submit this notebook by downloading it and upload to Moodle, or share the link this notebook to Moodle (make sure you turned on the \"Anyone with the link can view\" option)."
      ]
    }
  ],
  "metadata": {
    "colab": {
      "provenance": []
    },
    "kernelspec": {
      "display_name": "Python 3",
      "name": "python3"
    },
    "language_info": {
      "name": "python"
    }
  },
  "nbformat": 4,
  "nbformat_minor": 0
}

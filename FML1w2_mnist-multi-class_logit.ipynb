{
 "cells": [
  {
   "cell_type": "markdown",
   "metadata": {
    "id": "sO5O1oU5lPzy"
   },
   "source": [
    "# Build a simple classifier for the MNIST dataset"
   ]
  },
  {
   "cell_type": "markdown",
   "metadata": {
    "id": "sJ0Yi9ALlPzz"
   },
   "source": [
    "To build our model we need to do a few steps:\n",
    "- Download the MNIST dataset with consist of labeled handwritten images (28x28 px).\n",
    "- Construct 10 logistic regression models for the one vs rest classification.\n",
    "- Train our model and then test and validate how well we did."
   ]
  },
  {
   "cell_type": "markdown",
   "metadata": {
    "id": "wiNI-vLLGFIx"
   },
   "source": [
    "#  0. Load our packages"
   ]
  },
  {
   "cell_type": "code",
   "execution_count": null,
   "metadata": {
    "id": "8yI5AnKtqcIT"
   },
   "outputs": [],
   "source": [
    "import numpy as np\n",
    "import pandas as pd\n",
    "# import keras\n",
    "\n",
    "from sklearn.model_selection import train_test_split\n",
    "\n",
    "%matplotlib inline\n",
    "import matplotlib.pyplot as plt"
   ]
  },
  {
   "cell_type": "markdown",
   "metadata": {
    "id": "AUMHnb_QFrmd"
   },
   "source": [
    "# 1. Load the data\n",
    "The MNIST database is available as a dataset in Keras. Note: the data comes on a single channel, as opposed to the 3-channel presentation in the lectures. This will lead to having slightly fewer parameters in the model."
   ]
  },
  {
   "cell_type": "code",
   "execution_count": null,
   "metadata": {
    "colab": {
     "base_uri": "https://localhost:8080/"
    },
    "id": "3-6j56pyF02B",
    "outputId": "06fe13d7-7e8d-459d-bede-c7abf6521f4b"
   },
   "outputs": [],
   "source": [
    "from keras.datasets import mnist\n",
    "from keras.utils import to_categorical\n",
    "\n",
    "img_rows, img_cols = 28, 28\n",
    "num_classes = 10\n",
    "\n",
    "(x_train, y_train), (x_test, y_test) = mnist.load_data()\n",
    "\n",
    "print('We have %2d training pictures and %2d test pictures.' % (x_train.shape[0],x_test.shape[0]))\n",
    "print('Each picture is of size (%2d,%2d)' % (x_train.shape[1], x_train.shape[2]))"
   ]
  },
  {
   "cell_type": "markdown",
   "metadata": {
    "id": "Ilx5Nw9mlP0B"
   },
   "source": [
    "# 2. Explore the data\n",
    "\n",
    "It is always a good to do some data exploration before we start using it, find outliers, and decide if we need a preprocessing phase to uniform or augment it. And also to make sure that all the classes are covered by or more or less the same number of samples."
   ]
  },
  {
   "cell_type": "markdown",
   "metadata": {
    "id": "PT_AVb3FlP0J"
   },
   "source": [
    "#### Display some images"
   ]
  },
  {
   "cell_type": "code",
   "execution_count": null,
   "metadata": {
    "id": "1HUM9-qolP0J"
   },
   "outputs": [],
   "source": [
    "def display_train_image(position):\n",
    "    plt.figure(figsize=(1,1))\n",
    "    plt.title('Example %d. Label: %d' % (position, y_train[position]))\n",
    "    plt.imshow(x_train[position], cmap=plt.cm.gray_r)\n",
    "    plt.show()\n",
    "    plt.close()"
   ]
  },
  {
   "cell_type": "code",
   "execution_count": null,
   "metadata": {
    "colab": {
     "base_uri": "https://localhost:8080/",
     "height": 452
    },
    "id": "zmm29BThlP0N",
    "outputId": "faa4654d-0b93-4286-cbaf-3f445ac3cb83"
   },
   "outputs": [],
   "source": [
    "for i in range(50):\n",
    "    display_train_image(1200*i)"
   ]
  },
  {
   "cell_type": "markdown",
   "metadata": {
    "id": "EAuHkaO9lP0c"
   },
   "source": [
    "#### Is the training data balanced?"
   ]
  },
  {
   "cell_type": "code",
   "execution_count": null,
   "metadata": {
    "colab": {
     "base_uri": "https://localhost:8080/",
     "height": 359
    },
    "id": "5zp3oRg6lP0d",
    "outputId": "1f70885a-e164-4484-d151-ada52977b64e"
   },
   "outputs": [],
   "source": [
    "y_train_count = np.unique(y_train, return_counts=True)\n",
    "dataframe_y_train = pd.DataFrame({'Label':y_train_count[0], 'Count':y_train_count[1]})\n",
    "dataframe_y_train"
   ]
  },
  {
   "cell_type": "markdown",
   "metadata": {
    "id": "E3GsN225pJpK"
   },
   "source": [
    "We conclude that the data is balanced between the different labels. So we can continue with the modeling without extra manipulation of the dataset."
   ]
  },
  {
   "cell_type": "markdown",
   "metadata": {},
   "source": [
    "# 3. Data preprocessing"
   ]
  },
  {
   "cell_type": "code",
   "execution_count": null,
   "metadata": {},
   "outputs": [],
   "source": [
    "# Reset the seed of the random number generator, for reproducibility purposes\n",
    "np.random.seed(2023)"
   ]
  },
  {
   "cell_type": "code",
   "execution_count": null,
   "metadata": {},
   "outputs": [],
   "source": [
    "# Split the training dataset into training and validation\n",
    "\n",
    "x_train, x_valid, y_train, y_valid = train_test_split(x_train, \n",
    "                                                      y_train, \n",
    "                                                      test_size=0.2, \n",
    "                                                      random_state=2023, \n",
    "                                                      stratify=y_train\n",
    "                                                     )"
   ]
  },
  {
   "cell_type": "code",
   "execution_count": null,
   "metadata": {
    "colab": {
     "base_uri": "https://localhost:8080/"
    },
    "id": "IZhNBCFylP0s",
    "outputId": "54c32dd3-c561-4f01-99f0-10f9f8a9b915"
   },
   "outputs": [],
   "source": [
    "# Check the result of the data split\n",
    "\n",
    "print('# of training images:', x_train.shape[0])\n",
    "y_train_count = np.unique(y_train, return_counts=True)\n",
    "dataframe_y_train = pd.DataFrame({'Label':y_train_count[0], 'Train samples':y_train_count[1]})\n",
    "print(dataframe_y_train.to_string(index=False))\n",
    "\n",
    "print('# of validation images:', x_valid.shape[0])\n",
    "y_valid_count = np.unique(y_valid, return_counts=True)\n",
    "dataframe_y_valid = pd.DataFrame({'Label':y_valid_count[0], 'Valid samples':y_valid_count[1]})\n",
    "print(dataframe_y_valid.to_string(index=False))"
   ]
  },
  {
   "cell_type": "markdown",
   "metadata": {},
   "source": [
    "#### Scale the training data"
   ]
  },
  {
   "cell_type": "code",
   "execution_count": null,
   "metadata": {},
   "outputs": [],
   "source": [
    "print(\"The training data has values in the interval [%d,%d]\" % (x_train.min(),x_train.max()))"
   ]
  },
  {
   "cell_type": "markdown",
   "metadata": {},
   "source": [
    "#### We decide to scale the data into [0,1] by dividing to 255."
   ]
  },
  {
   "cell_type": "code",
   "execution_count": null,
   "metadata": {},
   "outputs": [],
   "source": [
    "# Scale the data into the interval [0,1]\n",
    "x_train = x_train/255\n",
    "\n",
    "# Reshape the data so that each 28 x 28 picture is transformed into a 784-long vector\n",
    "x_train=x_train.reshape(x_train.shape[0],-1)\n",
    "print(\"Shape of the training data: \",x_train.shape)"
   ]
  },
  {
   "cell_type": "markdown",
   "metadata": {},
   "source": [
    "# 4. Machine learning with logistic regression"
   ]
  },
  {
   "cell_type": "markdown",
   "metadata": {},
   "source": [
    "#### Train a logistic regression model using a \"one vs rest\" model (indicated through the choice of the solver)\n",
    "This trains internally 10 different binary classification models. For each datapoint, 10 predictions are generated, the one with the highest probability is selected as the prediction of the logistic regression model."
   ]
  },
  {
   "cell_type": "code",
   "execution_count": null,
   "metadata": {},
   "outputs": [],
   "source": [
    "from sklearn.linear_model import LogisticRegression\n",
    "\n",
    "clf = LogisticRegression(solver='liblinear', max_iter=100, random_state=10)\n",
    "clf = clf.fit(x_train, y_train)"
   ]
  },
  {
   "cell_type": "code",
   "execution_count": null,
   "metadata": {},
   "outputs": [],
   "source": [
    "# Check the score on the training data\n",
    "\n",
    "print(\"Score on training data: %.4f\" % clf.score(x_train, y_train))"
   ]
  },
  {
   "cell_type": "markdown",
   "metadata": {},
   "source": [
    "#### Check on the validation data \n"
   ]
  },
  {
   "cell_type": "markdown",
   "metadata": {},
   "source": [
    "### Q1: What is the score of the one vs. rest model on the validation data (2 decimals only)?"
   ]
  },
  {
   "cell_type": "code",
   "execution_count": null,
   "metadata": {},
   "outputs": [],
   "source": [
    "# Your code here\n"
   ]
  },
  {
   "cell_type": "code",
   "execution_count": null,
   "metadata": {},
   "outputs": [],
   "source": [
    "# Check the score on the validation data\n",
    "\n",
    "print(\"Score on validation data: %.4f\" % clf.score(x_valid, y_valid))"
   ]
  },
  {
   "cell_type": "markdown",
   "metadata": {},
   "source": [
    "#### Check other metrics of the model"
   ]
  },
  {
   "cell_type": "code",
   "execution_count": null,
   "metadata": {},
   "outputs": [],
   "source": [
    "from sklearn.metrics import (\n",
    "    accuracy_score,\n",
    "    confusion_matrix,\n",
    "    ConfusionMatrixDisplay,\n",
    "    f1_score,\n",
    ")\n",
    "\n",
    "y_pred_valid = clf.predict(x_valid)\n",
    "accuracy_valid = accuracy_score(y_pred_valid, y_valid)\n",
    "f1_valid = f1_score(y_pred_valid, y_valid, average=\"weighted\")\n",
    "\n",
    "print(\"Accuracy on the validation data: %.4f\" % accuracy_valid)\n",
    "print(\"F1 Score on the validation data: %.4f\" % f1_valid)\n",
    "\n",
    "\n",
    "labels = [0, 1, 2, 3, 4, 5, 6, 7, 8, 9]\n",
    "cm = confusion_matrix(y_valid, y_pred_valid, labels=labels)\n",
    "# disp = ConfusionMatrixDisplay(confusion_matrix=cm, display_labels=labels)\n",
    "# print(\"The confusion matrix on the validation data:\")\n",
    "# disp.plot()\n",
    "\n",
    "print(\"The confusion matrix on the validation data:\")\n",
    "print(cm)\n"
   ]
  },
  {
   "cell_type": "markdown",
   "metadata": {},
   "source": [
    "#### Train now a logistic regression model for the entire 10-class classification problem (using a softmax function to select the prediction on a datapoint. \n",
    "\n",
    "(2025.01) No additional parameters need to be set for this setup. Multinomial is the current default option for LogisticRegression."
   ]
  },
  {
   "cell_type": "code",
   "execution_count": null,
   "metadata": {},
   "outputs": [],
   "source": [
    "clf2 = LogisticRegression(max_iter=100, random_state=10)\n",
    "clf2 = clf2.fit(x_train, y_train)"
   ]
  },
  {
   "cell_type": "markdown",
   "metadata": {},
   "source": [
    "### Q2: What is the score of the multi-class model on the validation data (4 decimals)?"
   ]
  },
  {
   "cell_type": "code",
   "execution_count": null,
   "metadata": {},
   "outputs": [],
   "source": [
    "# Your code here\n",
    "\n"
   ]
  },
  {
   "cell_type": "markdown",
   "metadata": {},
   "source": [
    "#### We noticed that the learning was stopped before it converged. Let's increase the number of iterations in the learning algorithm from 100 to 1000. "
   ]
  },
  {
   "cell_type": "markdown",
   "metadata": {},
   "source": [
    "#### Q3: What is the score of the better trained multi-class model on the validation data (4 decimals)?"
   ]
  },
  {
   "cell_type": "code",
   "execution_count": null,
   "metadata": {
    "scrolled": true
   },
   "outputs": [],
   "source": [
    "# Your code here\n",
    "\n"
   ]
  },
  {
   "cell_type": "markdown",
   "metadata": {},
   "source": [
    "#### We now can select the final model. Take the one with the highest score on the validation data. "
   ]
  },
  {
   "cell_type": "markdown",
   "metadata": {},
   "source": [
    "### Q4: Which model did you select (one vs. rest or multi-class)?"
   ]
  },
  {
   "cell_type": "markdown",
   "metadata": {},
   "source": [
    "#### Check the final model on the test dataset"
   ]
  },
  {
   "cell_type": "code",
   "execution_count": null,
   "metadata": {},
   "outputs": [],
   "source": [
    "# Your code here\n",
    "\n"
   ]
  },
  {
   "cell_type": "markdown",
   "metadata": {},
   "source": [
    "### Q5: What is the score of the final model on the test data (4 decimals)?"
   ]
  },
  {
   "cell_type": "code",
   "execution_count": null,
   "metadata": {},
   "outputs": [],
   "source": [
    "# Your code here\n",
    "\n"
   ]
  },
  {
   "cell_type": "code",
   "execution_count": null,
   "metadata": {},
   "outputs": [],
   "source": []
  }
 ],
 "metadata": {
  "colab": {
   "provenance": [],
   "toc_visible": true
  },
  "kernelspec": {
   "display_name": "Python 3 (ipykernel)",
   "language": "python",
   "name": "python3"
  },
  "language_info": {
   "codemirror_mode": {
    "name": "ipython",
    "version": 3
   },
   "file_extension": ".py",
   "mimetype": "text/x-python",
   "name": "python",
   "nbconvert_exporter": "python",
   "pygments_lexer": "ipython3",
   "version": "3.12.4"
  }
 },
 "nbformat": 4,
 "nbformat_minor": 4
}
